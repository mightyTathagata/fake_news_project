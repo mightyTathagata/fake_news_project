{
  "cells": [
    {
      "cell_type": "code",
      "execution_count": 66,
      "metadata": {
        "id": "ebxJP-Ys3iUP"
      },
      "outputs": [],
      "source": [
        "import re\n",
        "import nltk\n",
        "import pandas as pd\n",
        "import numpy as np\n",
        "from nltk.corpus import stopwords\n",
        "from sklearn.feature_extraction.text import TfidfVectorizer, CountVectorizer\n",
        "from scipy.sparse import hstack\n",
        "from sklearn.ensemble import RandomForestClassifier\n",
        "from sklearn.svm import SVC\n",
        "from sklearn import preprocessing, decomposition\n",
        "from sklearn.metrics import f1_score, confusion_matrix, recall_score, precision_score\n",
        "from sklearn.linear_model import LogisticRegression\n",
        "import matplotlib.pyplot as plt\n",
        "import seaborn as sns\n",
        "\n",
        "import warnings\n",
        "warnings.filterwarnings('ignore')"
      ]
    },
    {
      "cell_type": "markdown",
      "source": [
        "### Loading the datatset"
      ],
      "metadata": {
        "id": "4LZLhKVVf7cA"
      }
    },
    {
      "cell_type": "code",
      "execution_count": 67,
      "metadata": {
        "id": "GlenlMOz3iUR"
      },
      "outputs": [],
      "source": [
        "# Load the Dataset\n",
        "\n",
        "train_stances = pd.read_csv(\"https://raw.githubusercontent.com/mightyTathagata/fake_news_project/main/fnc_dataset/train_stances.csv\") #headlines\n",
        "train_bodies = pd.read_csv(\"https://raw.githubusercontent.com/mightyTathagata/fake_news_project/main/fnc_dataset/train_bodies.csv\") #body\n",
        "test_stances = pd.read_csv(\"https://raw.githubusercontent.com/mightyTathagata/fake_news_project/main/fnc_dataset/test_stances.csv\")\n",
        "test_bodies = pd.read_csv(\"https://raw.githubusercontent.com/mightyTathagata/fake_news_project/main/fnc_dataset/test_bodies.csv\")\n",
        "\n",
        "# Inner Join on the Body ID\n",
        "merged_train_data = pd.merge(train_stances, train_bodies, on=\"Body ID\")\n",
        "merged_test_data = pd.merge(test_stances, test_bodies, on=\"Body ID\")\n",
        "\n",
        "# Shuffle the Dataset\n",
        "merged_train_data = merged_train_data.sample(frac=0.3)\n",
        "merged_test_data = merged_test_data.sample(frac=0.3)"
      ]
    },
    {
      "cell_type": "markdown",
      "source": [
        "### Feature Label Split"
      ],
      "metadata": {
        "id": "kLkhXInOgA6j"
      }
    },
    {
      "cell_type": "code",
      "execution_count": 68,
      "metadata": {
        "id": "M17WjNHj3iUR"
      },
      "outputs": [],
      "source": [
        "# Feature Label Split\n",
        "\n",
        "y_train = merged_train_data['Stance']\n",
        "x_train = merged_train_data.drop('Stance', axis=1)\n",
        "y_test = merged_test_data['Stance']\n",
        "x_test = merged_test_data.drop('Stance', axis=1)\n"
      ]
    },
    {
      "cell_type": "code",
      "execution_count": 69,
      "metadata": {
        "colab": {
          "base_uri": "https://localhost:8080/"
        },
        "id": "zBlbJj0N3iUS",
        "outputId": "0558b8b0-49c6-4d1e-86c0-ae8e3491bb2e"
      },
      "outputs": [
        {
          "output_type": "stream",
          "name": "stdout",
          "text": [
            "14992 14992\n",
            "7624 7624\n"
          ]
        }
      ],
      "source": [
        "print(len(x_train), len(y_train))\n",
        "print(len(x_test), len(y_test))"
      ]
    },
    {
      "cell_type": "code",
      "source": [
        "fig = plt.figure(figsize=(6,4))\n",
        "ax = fig.add_subplot()\n",
        "sns.countplot(x='Stance', data=merged_train_data, order=sorted(merged_train_data['Stance'].unique()), ax=ax)\n",
        "ax.set_title('Stance Distribution', weight='bold')\n",
        "plt.show()"
      ],
      "metadata": {
        "colab": {
          "base_uri": "https://localhost:8080/",
          "height": 295
        },
        "id": "R3YwNOJfDS68",
        "outputId": "b1a66027-b563-4ac4-f7a9-19e287470765"
      },
      "execution_count": 70,
      "outputs": [
        {
          "output_type": "display_data",
          "data": {
            "text/plain": [
              "<Figure size 432x288 with 1 Axes>"
            ],
            "image/png": "[encoded data removed]"
          },
          "metadata": {}
        }
      ]
    },
    {
      "cell_type": "markdown",
      "source": [
        "### Preprocessing"
      ],
      "metadata": {
        "id": "q0s40DwygE-x"
      }
    },
    {
      "cell_type": "code",
      "execution_count": 71,
      "metadata": {
        "id": "meRdvoLs3iUT"
      },
      "outputs": [],
      "source": [
        "# Declaring the function\n",
        "def process_text(text):\n",
        "\n",
        "    # Lowercasing\n",
        "    text = text.lower()\n",
        "\n",
        "    # Remove some punctuations\n",
        "    text = re.sub(r\"[!?,'\\\"*)@#%(&$_.^-]\", '', text)\n",
        "\n",
        "    # Splitting on spaces\n",
        "    text = text.split(' ')\n",
        "\n",
        "    # Stemming and removing spaces\n",
        "    stemmer_ps = nltk.stem.PorterStemmer()  \n",
        "    text = [stemmer_ps.stem(word) for word in text if len(word)]\n",
        "\n",
        "    return \" \".join(text)\n"
      ]
    },
    {
      "cell_type": "code",
      "execution_count": 72,
      "metadata": {
        "id": "r9KF18Hj-QcG"
      },
      "outputs": [],
      "source": [
        "# Transforming Headlines\n",
        "x_train['Headline'] = x_train['Headline'].apply(process_text)\n",
        "x_test['Headline'] = x_test['Headline'].apply(process_text)\n",
        "\n",
        "# Transforming Body\n",
        "x_train['articleBody'] = x_train['articleBody'].apply(process_text)\n",
        "x_test['articleBody'] = x_test['articleBody'].apply(process_text)"
      ]
    },
    {
      "cell_type": "code",
      "execution_count": 73,
      "metadata": {
        "id": "yA1KqlLv3iUU"
      },
      "outputs": [],
      "source": [
        "tfv_headline = TfidfVectorizer(max_features=2500)\n",
        "\n",
        "tfv_headline.fit((x_train['Headline']))\n",
        "xtrain_tfv_headline =  tfv_headline.transform(x_train['Headline'])\n",
        "\n",
        "\n",
        "xtest_tfv_headline =  tfv_headline.transform(x_test['Headline'])\n",
        "\n",
        "tfv_body = TfidfVectorizer(max_features=2500)\n",
        "\n",
        "tfv_body.fit((x_train['articleBody']))\n",
        "xtrain_tfv_body =  tfv_body.transform(x_train['articleBody'])\n",
        "\n",
        "xtest_tfv_body =  tfv_body.transform(x_test['articleBody'])\n",
        "\n"
      ]
    },
    {
      "cell_type": "code",
      "execution_count": 74,
      "metadata": {
        "colab": {
          "base_uri": "https://localhost:8080/"
        },
        "id": "QeFe5HUY8ooS",
        "outputId": "c67e5d8b-8484-46c3-a8f7-23fa592de56d"
      },
      "outputs": [
        {
          "output_type": "stream",
          "name": "stdout",
          "text": [
            "(14992, 2500)\n",
            "(7624, 2500)\n",
            "(14992, 2500)\n",
            "(7624, 2500)\n"
          ]
        }
      ],
      "source": [
        "print(xtrain_tfv_headline.shape)\n",
        "print(xtest_tfv_headline.shape)\n",
        "print(xtrain_tfv_body.shape)\n",
        "print(xtest_tfv_body.shape)"
      ]
    },
    {
      "cell_type": "code",
      "execution_count": 75,
      "metadata": {
        "id": "6-sLl8CPGWMy"
      },
      "outputs": [],
      "source": [
        "xtrain_tfv = hstack([xtrain_tfv_headline, xtrain_tfv_body]).toarray()\n",
        "\n",
        "xtest_tfv = hstack([xtest_tfv_headline, xtest_tfv_body]).toarray()\n"
      ]
    },
    {
      "cell_type": "markdown",
      "source": [
        "### Logistic Regression"
      ],
      "metadata": {
        "id": "J2DhskN6gJ5a"
      }
    },
    {
      "cell_type": "code",
      "execution_count": 76,
      "metadata": {
        "id": "ADxxNe9X3iUV"
      },
      "outputs": [],
      "source": [
        "clf_lr = LogisticRegression()\n",
        "clf_lr.fit(xtrain_tfv, y_train)\n",
        "predictions_lr = clf_lr.predict(xtest_tfv)"
      ]
    },
    {
      "cell_type": "code",
      "execution_count": 77,
      "metadata": {
        "id": "qGxHGBZ4HBy1"
      },
      "outputs": [],
      "source": [
        "lr_f1 = f1_score(y_test, predictions_lr, average='weighted')\n",
        "lr_recall = recall_score(y_test, predictions_lr, average='weighted')\n",
        "lr_precision = precision_score(y_test, predictions_lr, average='weighted')"
      ]
    },
    {
      "cell_type": "markdown",
      "source": [
        "### SVM"
      ],
      "metadata": {
        "id": "4wgf-tXEgnCL"
      }
    },
    {
      "cell_type": "code",
      "execution_count": 78,
      "metadata": {
        "id": "Jyn2vcl-RHzS"
      },
      "outputs": [],
      "source": [
        "svd = decomposition.TruncatedSVD(n_components=120)\n",
        "svd.fit(xtrain_tfv)\n",
        "xtrain_svd = svd.transform(xtrain_tfv)\n",
        "xtest_svd = svd.transform(xtest_tfv)\n",
        "\n",
        "scl = preprocessing.StandardScaler()\n",
        "scl.fit(xtrain_svd)\n",
        "xtrain_scl = scl.transform(xtrain_svd)\n",
        "xtest_scl = scl.transform(xtest_svd)\n",
        "\n",
        "\n",
        "clf_svm = SVC(C=1.0, probability=True)\n",
        "clf_svm.fit(xtrain_scl, y_train)\n",
        "predictions_svm = clf_svm.predict(xtest_scl)\n",
        "\n"
      ]
    },
    {
      "cell_type": "code",
      "source": [
        "svm_f1 = f1_score(y_test, predictions_svm, average='weighted')\n",
        "svm_recall = recall_score(y_test, predictions_svm, average='weighted')\n",
        "svm_precision = precision_score(y_test, predictions_svm, average='weighted')"
      ],
      "metadata": {
        "id": "SWBMAnamgXQG"
      },
      "execution_count": 79,
      "outputs": []
    },
    {
      "cell_type": "markdown",
      "source": [
        "### Random Forest Classifier"
      ],
      "metadata": {
        "id": "Tv_UasCXgiz8"
      }
    },
    {
      "cell_type": "code",
      "execution_count": 80,
      "metadata": {
        "id": "jRmMDyhGYFFI"
      },
      "outputs": [],
      "source": [
        "clf_rf = RandomForestClassifier(n_estimators = 10, random_state = 42)\n",
        "clf_rf.fit(xtrain_tfv, y_train)\n",
        "predictions_rf = clf_rf.predict(xtest_tfv)\n"
      ]
    },
    {
      "cell_type": "code",
      "execution_count": 81,
      "metadata": {
        "id": "HlzP6lfcY1tb"
      },
      "outputs": [],
      "source": [
        "rf_f1 = f1_score(y_test, predictions_rf, average='weighted')\n",
        "rf_recall = recall_score(y_test, predictions_rf, average='weighted')\n",
        "rf_precision = precision_score(y_test, predictions_rf, average='weighted')"
      ]
    },
    {
      "cell_type": "markdown",
      "source": [
        "### Results"
      ],
      "metadata": {
        "id": "yUVYuV4EIWg9"
      }
    },
    {
      "cell_type": "code",
      "source": [
        "F1_score = np.full(3, np.nan)\n",
        "Recall = np.full(3, np.nan)\n",
        "Precision = np.full(3, np.nan)\n",
        "Algorithm = np.array(3)\n",
        "\n",
        "Algorithm = [\"LogisticRegression\", \"SVM\", \"Random Forrest\"]\n",
        "\n",
        "F1_score[0] = lr_f1\n",
        "F1_score[1] = svm_f1\n",
        "F1_score[2] = rf_f1\n",
        "\n",
        "Recall[0] = lr_recall\n",
        "Recall[1] = svm_recall\n",
        "Recall[2] = rf_recall\n",
        "\n",
        "Precision[0] = lr_precision\n",
        "Precision[1] = svm_precision\n",
        "Precision[2] = rf_precision\n",
        "\n",
        "Report = pd.DataFrame({\"F1-score\":F1_score, \"Recall\":Recall, \"Precision\":Precision}, index=Algorithm)\n",
        "Report\n",
        "\n"
      ],
      "metadata": {
        "colab": {
          "base_uri": "https://localhost:8080/",
          "height": 143
        },
        "id": "kJRFBUonIWNa",
        "outputId": "dece95b1-e984-4848-ea40-060b83e66185"
      },
      "execution_count": 82,
      "outputs": [
        {
          "output_type": "execute_result",
          "data": {
            "text/plain": [
              "                    F1-score    Recall  Precision\n",
              "LogisticRegression  0.612088  0.698452   0.567666\n",
              "SVM                 0.675833  0.752230   0.714183\n",
              "Random Forrest      0.637902  0.679171   0.609351"
            ],
            "text/html": [
              "\n",
              "  <div id=\"df-09c9e11a-b57f-410b-923b-c442adcb55c0\">\n",
              "    <div class=\"colab-df-container\">\n",
              "      <div>\n",
              "<style scoped>\n",
              "    .dataframe tbody tr th:only-of-type {\n",
              "        vertical-align: middle;\n",
              "    }\n",
              "\n",
              "    .dataframe tbody tr th {\n",
              "        vertical-align: top;\n",
              "    }\n",
              "\n",
              "    .dataframe thead th {\n",
              "        text-align: right;\n",
              "    }\n",
              "</style>\n",
              "<table border=\"1\" class=\"dataframe\">\n",
              "  <thead>\n",
              "    <tr style=\"text-align: right;\">\n",
              "      <th></th>\n",
              "      <th>F1-score</th>\n",
              "      <th>Recall</th>\n",
              "      <th>Precision</th>\n",
              "    </tr>\n",
              "  </thead>\n",
              "  <tbody>\n",
              "    <tr>\n",
              "      <th>LogisticRegression</th>\n",
              "      <td>0.612088</td>\n",
              "      <td>0.698452</td>\n",
              "      <td>0.567666</td>\n",
              "    </tr>\n",
              "    <tr>\n",
              "      <th>SVM</th>\n",
              "      <td>0.675833</td>\n",
              "      <td>0.752230</td>\n",
              "      <td>0.714183</td>\n",
              "    </tr>\n",
              "    <tr>\n",
              "      <th>Random Forrest</th>\n",
              "      <td>0.637902</td>\n",
              "      <td>0.679171</td>\n",
              "      <td>0.609351</td>\n",
              "    </tr>\n",
              "  </tbody>\n",
              "</table>\n",
              "</div>\n",
              "      <button class=\"colab-df-convert\" onclick=\"convertToInteractive('df-09c9e11a-b57f-410b-923b-c442adcb55c0')\"\n",
              "              title=\"Convert this dataframe to an interactive table.\"\n",
              "              style=\"display:none;\">\n",
              "        \n",
              "  <svg xmlns=\"http://www.w3.org/2000/svg\" height=\"24px\"viewBox=\"0 0 24 24\"\n",
              "       width=\"24px\">\n",
              "    <path d=\"M0 0h24v24H0V0z\" fill=\"none\"/>\n",
              "    <path d=\"M18.56 5.44l.94 2.06.94-2.06 2.06-.94-2.06-.94-.94-2.06-.94 2.06-2.06.94zm-11 1L8.5 8.5l.94-2.06 2.06-.94-2.06-.94L8.5 2.5l-.94 2.06-2.06.94zm10 10l.94 2.06.94-2.06 2.06-.94-2.06-.94-.94-2.06-.94 2.06-2.06.94z\"/><path d=\"M17.41 7.96l-1.37-1.37c-.4-.4-.92-.59-1.43-.59-.52 0-1.04.2-1.43.59L10.3 9.45l-7.72 7.72c-.78.78-.78 2.05 0 2.83L4 21.41c.39.39.9.59 1.41.59.51 0 1.02-.2 1.41-.59l7.78-7.78 2.81-2.81c.8-.78.8-2.07 0-2.86zM5.41 20L4 18.59l7.72-7.72 1.47 1.35L5.41 20z\"/>\n",
              "  </svg>\n",
              "      </button>\n",
              "      \n",
              "  <style>\n",
              "    .colab-df-container {\n",
              "      display:flex;\n",
              "      flex-wrap:wrap;\n",
              "      gap: 12px;\n",
              "    }\n",
              "\n",
              "    .colab-df-convert {\n",
              "      background-color: #E8F0FE;\n",
              "      border: none;\n",
              "      border-radius: 50%;\n",
              "      cursor: pointer;\n",
              "      display: none;\n",
              "      fill: #1967D2;\n",
              "      height: 32px;\n",
              "      padding: 0 0 0 0;\n",
              "      width: 32px;\n",
              "    }\n",
              "\n",
              "    .colab-df-convert:hover {\n",
              "      background-color: #E2EBFA;\n",
              "      box-shadow: 0px 1px 2px rgba(60, 64, 67, 0.3), 0px 1px 3px 1px rgba(60, 64, 67, 0.15);\n",
              "      fill: #174EA6;\n",
              "    }\n",
              "\n",
              "    [theme=dark] .colab-df-convert {\n",
              "      background-color: #3B4455;\n",
              "      fill: #D2E3FC;\n",
              "    }\n",
              "\n",
              "    [theme=dark] .colab-df-convert:hover {\n",
              "      background-color: #434B5C;\n",
              "      box-shadow: 0px 1px 3px 1px rgba(0, 0, 0, 0.15);\n",
              "      filter: drop-shadow(0px 1px 2px rgba(0, 0, 0, 0.3));\n",
              "      fill: #FFFFFF;\n",
              "    }\n",
              "  </style>\n",
              "\n",
              "      <script>\n",
              "        const buttonEl =\n",
              "          document.querySelector('#df-09c9e11a-b57f-410b-923b-c442adcb55c0 button.colab-df-convert');\n",
              "        buttonEl.style.display =\n",
              "          google.colab.kernel.accessAllowed ? 'block' : 'none';\n",
              "\n",
              "        async function convertToInteractive(key) {\n",
              "          const element = document.querySelector('#df-09c9e11a-b57f-410b-923b-c442adcb55c0');\n",
              "          const dataTable =\n",
              "            await google.colab.kernel.invokeFunction('convertToInteractive',\n",
              "                                                     [key], {});\n",
              "          if (!dataTable) return;\n",
              "\n",
              "          const docLinkHtml = 'Like what you see? Visit the ' +\n",
              "            '<a target=\"_blank\" href=https://colab.research.google.com/notebooks/data_table.ipynb>data table notebook</a>'\n",
              "            + ' to learn more about interactive tables.';\n",
              "          element.innerHTML = '';\n",
              "          dataTable['output_type'] = 'display_data';\n",
              "          await google.colab.output.renderOutput(dataTable, element);\n",
              "          const docLink = document.createElement('div');\n",
              "          docLink.innerHTML = docLinkHtml;\n",
              "          element.appendChild(docLink);\n",
              "        }\n",
              "      </script>\n",
              "    </div>\n",
              "  </div>\n",
              "  "
            ]
          },
          "metadata": {},
          "execution_count": 82
        }
      ]
    },
    {
      "cell_type": "code",
      "source": [
        "lr_cf_matrix = confusion_matrix(y_test, predictions_lr, normalize='pred')\n",
        "sns.heatmap(lr_cf_matrix)"
      ],
      "metadata": {
        "colab": {
          "base_uri": "https://localhost:8080/",
          "height": 282
        },
        "id": "df8E-xpCKsGX",
        "outputId": "1fec24e0-7e1c-4ed3-a1c7-13e342c66207"
      },
      "execution_count": 95,
      "outputs": [
        {
          "output_type": "execute_result",
          "data": {
            "text/plain": [
              "<matplotlib.axes._subplots.AxesSubplot at 0x7f411c8ec390>"
            ]
          },
          "metadata": {},
          "execution_count": 95
        },
        {
          "output_type": "display_data",
          "data": {
            "text/plain": [
              "<Figure size 432x288 with 2 Axes>"
            ],
            "image/png": "[encoded data removed]"
          },
          "metadata": {}
        }
      ]
    },
    {
      "cell_type": "code",
      "source": [
        "svm_cf_matrix = confusion_matrix(y_test, predictions_svm, normalize='pred')\n",
        "sns.heatmap(svm_cf_matrix)"
      ],
      "metadata": {
        "colab": {
          "base_uri": "https://localhost:8080/",
          "height": 282
        },
        "id": "qYhNv1vULNK7",
        "outputId": "1f328728-9dfb-46ed-eb55-4e4cbcd771e6"
      },
      "execution_count": 96,
      "outputs": [
        {
          "output_type": "execute_result",
          "data": {
            "text/plain": [
              "<matplotlib.axes._subplots.AxesSubplot at 0x7f411c8894d0>"
            ]
          },
          "metadata": {},
          "execution_count": 96
        },
        {
          "output_type": "display_data",
          "data": {
            "text/plain": [
              "<Figure size 432x288 with 2 Axes>"
            ],
            "image/png": "[encoded data removed]"
          },
          "metadata": {}
        }
      ]
    },
    {
      "cell_type": "code",
      "source": [
        "rf_cf_matrix = confusion_matrix(y_test, predictions_rf, normalize='pred')\n",
        "sns.heatmap(rf_cf_matrix)"
      ],
      "metadata": {
        "colab": {
          "base_uri": "https://localhost:8080/",
          "height": 286
        },
        "id": "T7X_LCEKLbsU",
        "outputId": "02f5c6b8-712e-4cd1-dd3d-078d3cc46319"
      },
      "execution_count": 97,
      "outputs": [
        {
          "output_type": "execute_result",
          "data": {
            "text/plain": [
              "<matplotlib.axes._subplots.AxesSubplot at 0x7f411c878150>"
            ]
          },
          "metadata": {},
          "execution_count": 97
        },
        {
          "output_type": "display_data",
          "data": {
            "text/plain": [
              "<Figure size 432x288 with 2 Axes>"
            ],
            "image/png": "[encoded data removed]"
          },
          "metadata": {}
        }
      ]
    },
    {
      "cell_type": "code",
      "source": [
        ""
      ],
      "metadata": {
        "id": "RUGWfphKMoIV"
      },
      "execution_count": null,
      "outputs": []
    }
  ],
  "metadata": {
    "colab": {
      "collapsed_sections": [],
      "name": "news_classifier.ipynb",
      "provenance": []
    },
    "datalore": {
      "base_environment": "default",
      "computation_mode": "JUPYTER",
      "package_manager": "pip",
      "packages": [
        {
          "name": "nltk",
          "source": "PIP",
          "version": "3.7"
        }
      ],
      "version": 1
    },
    "kernelspec": {
      "display_name": "Python 3 (ipykernel)",
      "language": "python",
      "name": "python3"
    },
    "language_info": {
      "codemirror_mode": {
        "name": "ipython",
        "version": 3
      },
      "file_extension": ".py",
      "mimetype": "text/x-python",
      "name": "python",
      "nbconvert_exporter": "python",
      "pygments_lexer": "ipython3",
      "version": "3.8.5"
    }
  },
  "nbformat": 4,
  "nbformat_minor": 0
}