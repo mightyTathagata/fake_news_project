{
 "cells": [
  {
   "cell_type": "code",
   "execution_count": 1,
   "metadata": {
    "datalore": {
     "hide_input_from_viewers": false,
     "hide_output_from_viewers": false,
     "type": "CODE"
    }
   },
   "outputs": [],
   "source": [
    "import re\n",
    "import nltk\n",
    "import pandas as pd\n",
    "import numpy as np\n",
    "from nltk.corpus import stopwords\n",
    "from sklearn.feature_extraction.text import TfidfVectorizer\n",
    "\n",
    "import warnings\n",
    "warnings.filterwarnings('ignore')"
   ]
  },
  {
   "cell_type": "code",
   "execution_count": 4,
   "metadata": {
    "datalore": {
     "hide_input_from_viewers": false,
     "hide_output_from_viewers": false,
     "type": "CODE"
    }
   },
   "outputs": [],
   "source": [
    "# Load the Dataset\n",
    "\n",
    "headlines = pd.read_csv(\"../fake_news_project/fnc_dataset/train_stances.csv\")\n",
    "body = pd.read_csv(\"../fake_news_project/fnc_dataset/train_bodies.csv\")\n",
    "\n",
    "# Inner Join on the Body ID\n",
    "merged_raw_data = pd.merge(headlines, body, on=\"Body ID\")\n",
    "\n",
    "# Shuffle the Dataset\n",
    "merged_raw_data = merged_raw_data.sample(frac=0.1)"
   ]
  },
  {
   "cell_type": "code",
   "execution_count": 5,
   "metadata": {
    "datalore": {
     "hide_input_from_viewers": false,
     "hide_output_from_viewers": false,
     "type": "CODE"
    }
   },
   "outputs": [],
   "source": [
    "# Feature Label Split\n",
    "\n",
    "y = merged_raw_data['Stance']\n",
    "x = merged_raw_data.drop('Stance', axis=1)"
   ]
  },
  {
   "cell_type": "code",
   "execution_count": 6,
   "metadata": {
    "datalore": {
     "hide_input_from_viewers": false,
     "hide_output_from_viewers": false,
     "type": "CODE"
    }
   },
   "outputs": [
    {
     "name": "stdout",
     "output_type": "stream",
     "text": [
      "3997 3997\n",
      "1000 1000\n"
     ]
    }
   ],
   "source": [
    "# Train Test Split\n",
    "\n",
    "x_train = x[:int(0.8 * len(x))]\n",
    "x_test = x[int(0.8 * len(x)):]\n",
    "y_train =  y[:int(0.8 * len(x))]\n",
    "y_test = y[int(0.8 * len(x)):]\n",
    "\n",
    "print(len(x_train), len(y_train))\n",
    "print(len(x_test), len(y_test))"
   ]
  },
  {
   "cell_type": "code",
   "execution_count": 7,
   "metadata": {
    "datalore": {
     "hide_input_from_viewers": false,
     "hide_output_from_viewers": false,
     "type": "CODE"
    }
   },
   "outputs": [],
   "source": [
    "# Declaring the function\n",
    "def process_text(text):\n",
    "\n",
    "    # Lowercasing\n",
    "    text = text.lower()\n",
    "\n",
    "    # Remove some punctuations\n",
    "    text = re.sub(r\"[!?,'\\\"*)@#%(&$_.^-]\", '', text)\n",
    "\n",
    "    # Splitting on spaces\n",
    "    text = text.split(' ')\n",
    "\n",
    "    # Stemming and removing spaces\n",
    "    stemmer_ps = nltk.stem.PorterStemmer()  \n",
    "    text = [stemmer_ps.stem(word) for word in text if len(word)]\n",
    "\n",
    "    return text\n",
    "\n",
    "# Transforming Headlines\n",
    "x_train['Headline'] = x_train['Headline'].apply(process_text)\n",
    "x_test['Headline'] = x_test['Headline'].apply(process_text)\n",
    "\n",
    "# Transforming Body\n",
    "x_train['articleBody'] = x_train['articleBody'].apply(process_text)\n",
    "x_test['articleBody'] = x_test['articleBody'].apply(process_text)"
   ]
  },
  {
   "cell_type": "code",
   "execution_count": 8,
   "metadata": {
    "datalore": {
     "hide_input_from_viewers": false,
     "hide_output_from_viewers": false,
     "type": "CODE"
    }
   },
   "outputs": [],
   "source": [
    "# Convert to Numpy Arrays\n",
    "x_train = x_train.to_numpy()\n",
    "x_test = x_test.to_numpy()\n",
    "\n",
    "y_train = y_train.to_numpy()\n",
    "y_test = y_test.to_numpy()"
   ]
  },
  {
   "cell_type": "code",
   "execution_count": 11,
   "metadata": {},
   "outputs": [
    {
     "data": {
      "text/plain": [
       "array([[list(['christian', 'bale', 'in', 'talk', 'to', 'play', 'steve', 'job', 'exclus']),\n",
       "        1368,\n",
       "        list(['jeni', 'chang', 'for', 'buzzfe', '/', 'via', 'drug', 'polici', 'allianc', 'data\\n\\nnew', 'york', 'citi', '—', 'the', 'new', 'york', 'polic', 'depart', 'will', 'no', 'longer', 'arrest', 'peopl', 'for', 'lowlevel', 'marijuana', 'possess', 'accord', 'to', 'peopl', 'with', 'knowledg', 'of', 'the', 'city’', 'drug', 'strategi', 'who', 'spoke', 'on', 'condit', 'of', 'anonymity\\n\\nth', 'nypd', 'will', 'issu', 'violat', 'summons', 'to', 'peopl', 'caught', 'with', 'marijuana', '—', 'instead', 'of', 'put', 'them', 'in', 'handcuff', 'and', 'take', 'them', 'to', 'a', 'precinct', 'the', 'summons', 'will', 'requir', 'peopl', 'to', 'appear', 'in', 'court', 'at', 'a', 'later', 'date', 'and', 'pay', 'a', 'fine\\n\\nfew', 'detail', 'on', 'the', 'new', 'polici', 'were', 'immedi', 'avail', 'but', 'an', 'offici', 'with', 'one', 'of', 'the', 'city’', 'five', 'district', 'attorney', 'offic', 'confirm', 'to', 'buzzfe', 'news', 'on', 'monday', 'that', 'the', 'chang', '“i', 'happening”', 'the', 'offici', 'ad', 'that', '“burn', 'marijuana”', 'would', 'still', 'be', 'caus', 'for', 'arrest', 'but', 'that', 'have', 'the', 'drug', 'in', 'a', 'public', 'place', 'would', 'not\\n\\nth', 'nypd', 'and', 'mayor', 'bill', 'de', 'blasio’', 'offic', 'did', 'not', 'immedi', 'respond', 'to', 'request', 'for', 'comment', 'but', 'are', 'expect', 'to', 'offici', 'announc', 'the', 'new', 'polici', 'at', 'a', 'news', 'confer', 'on', 'monday\\n\\nmanhattan', 'district', 'attorney', 'cyru', 'vance\\u200b', '\\u200bsaid\\u200b', 'monday\\u200b', 'he', 'support', 'the', 'chang', 'two', 'year', 'ago', 'and', 'still', 'doe', '“thi', 'polici', '–', 'by', 'divert', 'thousand', 'of', 'case', 'from', 'crimin', 'court', '–', 'will', 'also', 'keep', 'lowlevel', 'offend', 'particularli', 'teen', 'from', 'an', 'arrest', 'and', 'all', 'it', 'attend', 'consequ', 'includ', 'a', 'night', 'or', 'more', 'in', 'jail”', 'he', 'said\\n\\nth', 'new', 'polici', 'which', 'wa', 'first', 'report', 'by', 'the', 'new', 'york', 'time', 'would', 'bring', 'about', 'a', 'sea', 'chang', 'in', 'the', 'way', 'the', 'citi', 'is', 'polic', 'misdemeanorlevel', 'marijuana', 'possess', 'account', 'for', 'a', 'larg', 'percentag', 'of', 'the', 'city’', 'arrest', 'a', 'vast', 'major', 'of', 'which', 'happen', 'to', 'young', 'black', 'or', 'latino', 'men', 'live', 'in', 'poor', 'neighborhoods\\n\\nsom', 'public', 'defend', 'prais', 'the', 'policy\\n\\n“thi', 'is', 'a', 'huge', 'improvement”', 'lisa', 'schreibersdorf', 'execut', 'director', 'of', 'brooklyn', 'defend', 'servic', 'told', 'buzzfe', 'news', '“summons', 'don’t', 'get', 'you', 'fingerprint', 'thi', 'will', 'be', 'better', 'for', 'peopl', 'who', 'are', 'vulner', 'to', 'collater', 'consequ', 'like', 'immigrants”\\n\\nstil', 'schreibersdorf', 'caution', 'that', 'the', 'polici', 'will', 'not', 'fulfil', 'it', 'goal', 'unless', 'the', 'nypd', 'relax', 'it', 'identif', 'requir', 'for', 'summons', 'immigr', 'and', 'teenag', 'often', 'do', 'not', 'carri', 'valid', 'identif', 'she', 'said', 'which', 'often', 'mean', 'that', 'they', 'cannot', 'be', 'process', 'for', 'a', 'summon', 'she', 'ad', 'that', 'the', 'polici', 'doe', 'not', 'address', 'the', 'root', 'caus', 'of', 'the', 'problem', '—', 'name', 'that', 'polic', 'offic', 'in', 'new', 'york', 'routin', 'stop', 'peopl', 'without', 'probabl', 'cause\\n\\n“hav', 'summons', 'is', 'an', 'improv', 'for', 'peopl', 'who', 'are', 'alreadi', 'be', 'stop', 'but', 'that', 'doesn’t', 'mean', 'they', 'should', 'be', 'stop', 'in', 'the', 'first', 'place”', 'she', 'said', '“the', 'problem', 'from', 'my', 'perspect', 'is', 'that', 'stop', 'peopl', 'without', 'caus', 'is', 'unconstitutional”\\n\\nadvoc', 'also', 'warn', 'that', 'the', 'new', 'polici', 'could', 'result', 'in', 'an', 'increas', 'number', 'of', 'arrest', 'warrant', 'which', 'are', 'issu', 'to', 'peopl', 'who', 'fail', 'to', 'show', 'to', 'court', 'for', 'a', 'summon', 'as', 'the', 'new', 'york', 'time', 'report', 'up', 'to', 'a', 'quarter', 'of', 'peopl', 'issu', 'summon', 'fail', 'to', 'appear', 'for', 'their', 'court', 'appoint', 'as', 'a', 'consequ', 'there', 'are', 'current', '12', 'million', 'open', 'bench', 'warrant', 'in', 'new', 'york', 'citi', '—', 'about', 'one', 'per', 'everi', 'eight', 'residents\\n\\npossess', 'of', 'less', 'than', '25', 'gram', 'of', 'marijuana', 'ha', 'not', 'been', 'a', 'crime', 'in', 'new', 'york', 'state', 'sinc', '1977', 'the', 'nypd', 'made', '59000', 'arrest', 'for', 'misdemeanor', 'possess', 'in', '2010\\n\\nunder', 'current', 'law', 'the', 'onli', 'way', 'to', 'get', 'arrest', 'and', 'charg', 'with', 'a', 'misdemeanor', 'for', 'have', 'less', 'than', '25', 'gram', 'of', 'marijuana', 'is', 'to', 'display', 'it', '“in', 'public', 'view”', 'the', 'legal', 'definit', 'of', 'that', 'term', 'howev', 'is', 'ambigu', '“public', 'view”', 'can', 'mean', 'smoke', 'pot', 'in', 'a', 'public', 'place', 'but', 'it', 'can', 'also', 'mean', 'that', 'a', 'polic', 'offic', 'stop', 'you', 'frisk', 'you', 'and', 'pull', 'a', 'small', 'bag', 'of', 'marijuana', 'from', 'your', 'pocket\\n\\nwhen', 'the', 'bag', 'leav', 'your', 'pocket', 'it', 'ha', 'technic', 'enter', 'public', 'view', 'and', 'the', 'offic', 'can', 'legal', 'arrest', 'you', 'and', 'charg', 'you', 'with', 'a', 'misdemeanor', '—', 'even', 'though', 'you', 'had', 'less', 'than', 'the', 'decrimin', 'amount', 'thi', 'broad', 'interpret', 'of', '“public', 'view”', 'help', 'lowlevel', 'marijuana', 'possess', 'becom', 'one', 'of', 'the', 'nypd’', 'most', 'commonli', 'use', 'arrest', 'charg', 'dure', 'stopandfrisks\\n\\nth', 'correl', 'between', 'marijuana', 'arrest', 'and', 'stopandfrisk', 'becam', 'appar', 'after', '2011', 'when', 'a', 'us', 'district', 'court', 'declar', 'the', 'polic', 'tactic', 'an', 'unconstitut', 'form', 'of', 'racial', 'profil', 'by', '2013', 'the', 'nypd', 'wa', 'make', 'onli', '28000', 'marijuana', 'possess', 'arrest', '—', 'still', 'a', 'larg', 'number', 'but', '47', 'less', 'than', 'in', '2010\\n\\na', 'recent', 'studi', 'by', 'the', 'nonprofit', 'drug', 'polici', 'allianc', 'found', 'that', 'upward', 'of', '86', 'of', 'all', 'lowlevel', 'marijuana', 'arrest', 'made', 'in', '2014', 'affect', 'black', 'peopl', 'or', 'latino', '—', 'even', 'though', 'nation', 'studi', 'have', 'shown', 'that', 'white', 'peopl', 'are', 'just', 'as', 'like', 'to', 'smoke', 'marijuana', 'regularli', 'and', 'slightli', 'more', 'like', 'to', 'have', 'tri', 'it\\n\\nth', 'report', 'also', 'found', 'that', 'the', 'geographi', 'of', 'the', 'arrest', 'is', 'highli', 'segreg', 'with', 'dominantli', 'white', 'neighborhood', 'see', 'fewer', 'arrest', 'than', 'neighborhood', 'of', 'color', 'with', 'similar', 'percapita', 'incomes\\n\\nthes', 'stark', 'race', 'and', 'class', 'dispar', 'in', 'drug', 'law', 'enforc', 'becam', 'a', 'sore', 'point', 'for', 'mayor', 'de', 'blasio', 'who', 'as', 'a', 'candid', 'promis', 'to', 'end', 'discriminatori', 'polic', 'they', 'also', 'drove', 'ken', 'thompson', 'the', 'brooklyn', 'district', 'attorney', 'to', 'announc', 'in', 'juli', 'that', 'hi', 'offic', 'would', 'no', 'longer', 'prosecut', 'lowlevel', 'marijuana', 'possess', 'opt', 'instead', 'to', 'dismiss', 'most', 'of', 'such', 'cases\\n\\nstil', 'the', 'nypd', 'defend', 'the', 'high', 'number', 'of', 'arrest', 'with', 'willam', 'bratton', 'de', 'blasio’', 'polic', 'commission', 'say', 'that', 'thompson’', 'decis', 'would', 'not', 'affect', 'the', 'nypd’', 'approach', 'to', 'marijuana', 'possess', 'the', 'polici', 'to', 'be', 'announc', 'on', 'monday', 'will', 'mark', 'the', 'first', 'time', 'the', 'current', 'administr', 'will', 'take', 'concert', 'action', 'to', 'address', 'the', 'dispar', 'in', 'marijuana', 'arrests\\n\\nin', 'an', 'interview', 'with', 'the', 'new', 'york', 'time', 'thompson', 'said', 'he', 'wa', 'worri', 'that', 'the', 'new', 'polici', 'could', 'harm', 'those', 'it', 'wa', 'intend', 'to', 'help', 'by', 'remov', 'prosecutor', 'from', 'the', 'pictur', 'thi', 'is', 'becaus', 'a', 'prosecutor', 'can', 'opt', 'to', 'dismiss', 'a', 'misdemeanor', 'but', 'cannot', 'do', 'the', 'same', 'for', 'a', 'violation\\n\\nbut', 'as', 'new', 'report', 'by', 'the', 'vera', 'institut', 'show', 'prosecutori', 'review', 'can', 'cut', 'both', 'way', 'the', 'institut', 'analyz', 'data', 'provid', 'by', 'the', 'manhattan', 'district', 'attorney', 'and', 'found', 'that', 'black', 'peopl', 'and', 'latino', 'were', '“much', 'more', 'like', 'to', 'receiv', 'a', 'sentenc', 'offer', 'includ', 'a', 'jail', 'of', 'prison', 'term”', 'than', 'white', 'defend', 'in', 'similar', 'circumstances\\n\\nin', 'the', 'case', 'of', 'misdemeanor', 'marijuana', 'possess', 'the', 'vera', 'report', 'found', 'black', 'peopl', 'arraign', 'in', 'manhattan', 'were', '19', 'more', 'like', 'to', 'receiv', 'jail', 'or', 'prison', 'time', 'than', 'peopl', 'from', 'all', 'other', 'ethnic', 'by', 'contrast', 'defend', 'arrest', 'in', 'brooklyn', 'could', 'expect', 'their', 'case', 'to', 'be', 'dismiss', 'the', 'new', 'polici', 'is', 'expect', 'to', 'standard', 'procedur', 'across', 'the', 'city\\n\\nmor', 'detail', 'on', 'the', 'new', 'polici', 'are', 'expect', 'soon', 'de', 'blasio', 'and', 'bratton', 'are', 'schedul', 'to', 'make', 'an', 'announc', 'togeth', 'monday', 'at', '3', 'pm\\n\\nthi', 'is', 'a', 'develop', 'stori', 'check', 'back', 'for', 'updat', 'and', 'follow', 'buzzfe', 'news', 'on', 'twitter'])],\n",
       "       [list(['us', 'confirm', 'death', 'of', 'somalia', 'terror', 'group', 'leader']),\n",
       "        2039,\n",
       "        list(['while', 'laptop', 'sale', 'continu', 'to', 'drop', 'appl', 'macbook', 'air', 'ha', 'manag', 'to', 'remain', 'popular', 'and', 'perform', 'well', 'thi', 'year', 'appl', 'is', 'set', 'to', 'launch', 'a', '12inch', 'macbook', 'air', 'which', 'could', 'just', 'be', 'appl', 'biggest', 'product', 'in', '2015\\n\\nafter', 'be', 'rumor', 'for', 'quit', 'some', 'time', 'the', 'new', 'laptop', 'from', 'appl', 'ha', 'just', 'been', 'confirm', 'by', 'the', 'latest', 'report', 'from', 'mark', 'gurman', 'of', '9to5mac', 'appl', 'ha', 'made', 'a', 'number', 'of', 'chang', 'in', 'the', 'macbook', 'air', 'remov', 'and', 'redesign', 'what', 'user', 'know', 'and', 'love', 'about', 'the', 'machine\\n\\nappl', 'is', 'prepar', 'an', 'allnew', 'macbook', 'air', 'for', '2015', 'with', 'a', 'radic', 'new', 'design', 'that', 'jettison', 'standard', 'such', 'as', 'fullsiz', 'usb', 'port', 'magsaf', 'connector', 'and', 'sd', 'card', 'slot', 'said', 'gurman\\n\\nth', 'new', '12inch', 'macbook', 'air', 'is', 'said', 'to', 'be', 'smaller', 'than', 'it', '13inch', 'sibl', 'and', 'a', 'bit', 'thinner', 'than', 'the', '11inch', 'version', 'it', 'is', 'also', 'a', 'quarterofaninch', 'taller', 'than', 'the', 'latter', 'which', 'allow', 'it', 'to', 'keep', 'a', 'slightli', 'bigger', 'display', 'the', 'bezel', 'around', 'the', 'display', 'have', 'also', 'been', 'reduc', 'give', 'the', 'front', 'part', 'of', 'the', 'machin', 'a', 'brand', 'new', 'look\\n\\nmuch', 'of', 'the', 'larger', 'proport', 'of', 'the', 'machin', 'usabl', 'area', 'will', 'be', 'occupi', 'by', 'the', 'display', 'panel', 'and', 'the', 'keyboard', 'appl', 'ha', 'notic', 'deviat', 'from', 'the', 'standard', 'keyboard', 'of', 'the', 'macbook', 'air', 'by', 'cram', 'the', 'key', 'in', 'order', 'to', 'decreas', 'the', 'space', 'in', 'between\\n\\noth', 'key', 'chang', 'includ', 'the', 'transfer', 'of', 'the', 'power', 'button', 'from', 'the', 'upper', 'lefthand', 'corner', 'to', 'the', 'left', 'side', 'of', 'the', 'escap', 'key', 'and', 'the', 'remov', 'of', 'the', 'travel', 'on', 'the', 'track', 'pad', 'as', 'a', 'way', 'to', 'keep', 'the', 'laptop', 'slim', 'build\\n\\nth', 'new', 'macbook', 'air', 'is', 'also', 'a', 'minimalist', 'when', 'it', 'come', 'to', 'port', 'as', 'it', 'will', 'onli', 'be', 'sport', 'two', 'name', 'the', 'headphon', 'jack', 'and', 'a', 'usb', 'typec', 'port', 'thi', 'mean', 'that', 'fan', 'of', 'the', 'machin', 'will', 'have', 'to', 'do', 'away', 'with', 'the', 'thunderbolt', 'connect', 'and', 'the', 'magsaf', 'charger\\n\\nhowev', 'the', 'spec', 'of', 'the', 'new', 'usb', 'indic', 'that', 'the', 'typec', 'can', 'support', 'drive', 'display', 'and', 'devic', 'charging\\n\\nth', 'new', 'usb', 'typec', 'connector', 'is', 'smaller', 'faster', 'and', 'more', 'capabl', 'than', 'the', 'standard', 'usb', '20', 'and', '30', 'port', 'on', 'exist', 'comput', 'ad', 'gurman\\n\\nappl', 'is', 'yet', 'to', 'make', 'an', 'offici', 'announc', 'on', 'the', 'new', 'macbook', 'air', 'the', 'laptop', 'is', 'specul', 'to', 'ship', 'in', 'mid2015', 'and', 'is', 'expect', 'to', 'use', 'one', 'of', 'the', 'new', 'dualcor', 'broadwel', 'chip', 'from', 'intel'])],\n",
       "       [list(['no', 'islam', 'state', 'milit', 'have', 'not', 'been', 'caught', 'by', 'us', 'border', 'patrol']),\n",
       "        2141,\n",
       "        list(['son', 'of', 'anarchi', 'won’t', 'get', 'made', 'into', 'a', 'movi', 'a', 'hoax', 'articl', 'say', 'that', 'creator', 'kurt', 'sutter', 'will', 'launch', 'a', 'film', 'with', 'charli', 'hunnam', 'and', 'brad', 'pitt', 'ha', 'gone', 'viral\\n\\nth', 'bogu', 'piec', 'wa', 'publish', 'on', 'empir', 'news', 'a', 'satir', 'news', 'website\\n\\nhere’', 'the', 'disclaim', 'for', 'the', 'site:', '“empir', 'news', 'is', 'a', 'satir', 'and', 'entertain', 'websit', 'we', 'onli', 'use', 'invent', 'name', 'in', 'all', 'our', 'stori', 'except', 'in', 'case', 'when', 'public', 'figur', 'are', 'be', 'satir', 'ani', 'other', 'use', 'of', 'real', 'name', 'is', 'accident', 'and', 'coincidental”\\n\\nit', 'had', 'more', 'than', '80000', 'share', 'as', 'of', 'wednesday\\n\\na', 'number', 'of', 'peopl', 'appar', 'believ', 'the', 'fake', 'article\\n\\n“and', 'brad', 'pitt', 'is', 'a', 'bad', 'choic', 'to', 'play', 'john', 'teller', 'anyway', 'i’d', 'choos', 'sam', 'elliot”', 'one', 'person', 'wrote', 'in', 'the', 'comment', 'section\\n\\nad', 'another:', '“hope', 'thi', 'is', 'fake', 'not', 'sure', 'i', 'like', 'brad', 'pitt', 'as', 'john', 'teller', 'i', 'don’t', 'want', 'to', 'look', 'at', 'the', 'screen', 'and', 'feel', 'it’', 'anoth', 'hollywood', 'movi', 'should', 'get', 'lost', 'in', 'the', 'stori', 'just', 'like', 'on', 'tv', 'and', 'may', 'not', 'happen', 'when', 'see', 'brad', 'pitt', 'should', 'get', 'a', 'littl', 'known', 'actor', 'for', 'the', 'role', 'to', 'creat', 'the', 'charact', 'rather', 'than', 'buy', 'one”\\n\\nhere’', 'what', 'the', 'origin', 'articl', 'said:\\n\\nkurt', 'sutter', 'creator', 'of', 'the', 'hit', 'fx', 'drama', 'son', 'of', 'anarchi', 'ha', 'announc', 'plan', 'to', 'turn', 'the', 'popular', 'televis', 'seri', 'into', 'a', 'major', 'motion', 'picture\\n\\nsutt', 'who', 'wa', 'also', 'a', 'writer', 'produc', 'and', 'director', 'on', 'the', 'seri', 'said', 'in', 'an', 'interview', 'with', 'hollywood', 'today', 'magazin', 'that', 'he', 'ha', 'long', 'contempl', 'take', 'soa', 'to', 'the', 'big', 'screen', 'follow', 'it', 'run', 'on', 'televis', '“peopl', 'absolut', 'love', 'the', 'show', 'as', 'did', 'i', 'and', 'i', 'have', 'put', 'a', 'lot', 'of', 'thought', 'into', 'the', 'matter', 'and', 'we', 'are', 'go', 'forward', 'with', 'turn', 'it', 'into', 'a', 'featur', 'film”', 'sutter', 'said\\n\\nson', 'of', 'anarchi', 'ran', 'for', 'seven', 'season', 'on', 'fx', 'from', '20082014', 'and', 'in', 'the', 'process', 'built', 'a', 'huge', 'follow', 'sutter', 'said', 'the', 'film', 'will', 'star', 'charli', 'hunnam', 'who', 'play', 'the', 'lead', 'charact', 'jax', 'teller', 'as', 'well', 'as', 'ryan', 'hurst', 'who', 'play', 'opi', 'winston', 'and', 'katey', 'sagal', 'as', 'gemma', 'teller', 'the', 'film', 'which', 'is', 'a', 'prequel', 'to', 'the', 'storylin', 'of', 'son', 'will', 'also', 'introduc', 'fan', 'to', 'jax’', 'father', 'john', 'who', 'will', 'be', 'play', 'by', 'brad', 'pitt'])],\n",
       "       ...,\n",
       "       [list(['islam', 'state', 'milit', 'claim', 'to', 'have', 'behead', 'us', 'journalist', 'jame', 'wright', 'foley']),\n",
       "        2127,\n",
       "        list(['kansa', 'citi', 'mo', 'kansa', 'citi', 'health', 'offici', 'said', 'a', 'man', 'held', 'in', 'isol', 'at', 'a', 'local', 'hospit', 'over', 'the', 'weekend', 'wa', 'not', 'infect', 'with', 'the', 'ebola', 'viru', 'offici', 'hope', 'to', 'sooth', 'nerv', 'as', 'fear', 'about', 'the', 'deadli', 'viru', 'spread', 'across', 'the', 'countri', 'even', 'though', 'the', 'viru', 'itself', 'ha', 'not\\n\\n“w', 'have', 'rule', 'out', 'ani', 'ebola', 'case', 'in', 'kansa', 'city”', 'kansa', 'citi', 'health', 'depart', 'director', 'dr', 'rex', 'archer', 'told', 'report', 'on', 'monday', 'he', 'said', 'the', 'man', 'who', 'had', 'recent', 'travel', 'to', 'nigeria', 'did', 'not', 'possess', 'the', 'symptom', 'profil', 'for', 'the', 'deadli', 'viru', 'beyond', 'a', 'high', 'fever', 'and', 'had', 'not', 'been', 'in', 'direct', 'contact', 'with', 'anyon', 'who', 'had', 'the', 'diseas', 'dure', 'hi', 'travels\\n\\nno', 'ebola', 'blood', 'test', 'wa', 'done', 'dr', 'archer', 'said', 'becaus', 'the', 'fear', 'symptom', 'never', 'materialized\\n\\nth', 'case', 'mark', 'the', 'second', 'known', 'ebola', 'scare', 'in', 'the', 'kansa', 'citi', 'area', 'as', 'fear', 'of', 'the', 'viru', 'have', 'built', 'while', 'an', 'american', 'fight', 'for', 'hi', 'life', 'against', 'it', 'in', 'dallas\\n\\nat', 'the', 'white', 'hous', 'monday', 'presid', 'barack', 'obama', 'urg', 'calm', 'and', 'outlin', 'sever', 'step', 'the', 'administr', 'is', 'take', 'to', 'contain', 'the', 'viru', 'in', 'africa', 'and', 'fight', 'it', 'there\\n\\n“th', 'cdc', 'is', 'familiar', 'with', 'deal', 'with', 'infecti', 'diseas', 'and', 'virus', 'like', 'this”', 'the', 'presid', 'said', '“we', 'know', 'what', 'ha', 'to', 'be', 'done', 'and', 'we', 'have', 'the', 'medic', 'infrastructur', 'to', 'do', 'it”\\n\\nmonday', 'morn', 'kansa', 'senat', 'jerri', 'moran', 'sent', 'a', 'letter', 'to', 'the', 'cdc', 'director', 'urg', 'greater', 'screen', 'at', 'us', 'port', 'of', 'entri', 'includ', 'airports\\n\\nthi', 'afternoon', 'presid', 'obama', 'said', 'such', 'step', 'are', 'under', 'consideration\\n\\n“wer', 'also', 'go', 'to', 'be', 'look', 'at', 'protocol', 'to', 'do', 'addit', 'passeng', 'screen', 'both', 'at', 'the', 'sourc', 'and', 'here', 'in', 'the', 'unit', 'states”', 'obama', 'said', '“all', 'of', 'these', 'thing', 'make', 'me', 'confid', 'that', 'here', 'in', 'the', 'unit', 'state', 'the', 'chanc', 'of', 'an', 'outbreakof', 'an', 'epidem', 'here', 'are', 'extraordinarili', 'low”'])],\n",
       "       [list(['jame', 'foley', 'miss', 'american', 'photojournalist', 'reportedli', 'execut', 'by', 'isi', 'in', 'syria']),\n",
       "        1642,\n",
       "        list(['the', 'scottish', 'spca', 'is', 'appeal', 'to', 'the', 'public', 'for', 'ani', 'inform', 'relat', 'to', 'a', 'dog', 'that', 'wa', 'found', 'abandon', 'at', 'a', 'railway', 'station', 'along', 'with', 'a', 'suitcas', 'full', 'of', 'it', 'belongings\\nth', 'dog', 'a', 'male', 'sharpei', 'crossbre', 'wa', 'found', 'tie', 'to', 'a', 'rail', 'at', 'ayr', 'station', 'locat', 'in', 'southwestern', 'scotland', 'last', 'friday', 'next', 'to', 'the', 'dog', 'wa', 'a', 'suitcas', 'contain', 'a', 'pillow', 'toy', 'food', 'bowl', 'and', 'food', 'the', 'spca', 'said', 'in', 'a', 'statement', 'tuesday\\nscottish', 'spca', 'insp', 'stewart', 'taylor', 'said', 'the', 'dog', 'wa', 'microchip', 'so', 'the', 'spca', 'found', 'out', 'hi', 'name', 'is', 'kai', 'and', 'wa', 'abl', 'to', 'locat', 'the', 'dog', 'previou', 'owner\\nw', 'contact', 'the', 'owner', 'regist', 'to', 'the', 'microchip', 'who', 'state', 'they', 'had', 'sold', 'kai', 'on', 'gumtre', 'in', '2013', 'unfortun', 'they', 'could', 'not', 'tell', 'us', 'the', 'address', 'of', 'the', 'person', 'who', 'bought', 'him', 'taylor', 'said', 'in', 'the', 'statement\\ntaylor', 'said', 'the', 'case', 'highlight', 'the', 'mani', 'risk', 'of', 'sell', 'an', 'anim', 'online\\nregardless', 'of', 'the', 'fact', 'kai', 'wa', 'left', 'with', 'hi', 'belong', 'thi', 'wa', 'a', 'cruel', 'incid', 'and', 'we', 'are', 'keen', 'to', 'identifi', 'the', 'person', 'respons', 'he', 'said\\nth', 'spca', 'describ', 'kai', 'as', 'a', 'love', 'dog', 'with', 'a', 'nice', 'natur', 'and', 'estim', 'that', 'he', 'is', 'between', 'two', 'to', 'three', 'year', 'old', 'we', 'will', 'look', 'after', 'him', 'until', 'we', 'can', 'find', 'him', 'a', 'perman', 'and', 'love', 'home', 'it', 'said', 'in', 'the', 'statement\\nund', 'the', 'scottish', 'anim', 'health', 'and', 'welfar', 'act', '2006', 'abandon', 'an', 'anim', 'is', 'an', 'offenc', 'anyon', 'found', 'guilti', 'of', 'abandon', 'an', 'anim', 'can', 'be', 'ban', 'from', 'keep', 'ani', 'anim', 'for', 'a', 'period', 'of', 'time', 'or', 'for', 'life\\nanyon', 'with', 'ani', 'inform', 'about', 'the', 'case', 'is', 'be', 'ask', 'to', 'contact', 'the', 'scottish', 'spca', 'helplin', 'at', '0300', '999', '999'])],\n",
       "       [list(['wa', 'the', 'video', 'of', 'that', 'homeless', 'man', 'do', 'good', 'deed', 'with', '100', 'all', 'an', 'elabor', 'hoax']),\n",
       "        941,\n",
       "        list(['it', 'hardli', 'a', 'secret', 'that', 'amazon', 'want', 'to', 'be', 'your', 'goto', 'store', 'for', 'everyth', 'but', 'despit', 'it', 'big', 'push', 'for', 'sameday', 'deliveri', 'there', 'still', 'noth', 'like', 'trudg', 'into', 'a', 'physic', 'store', 'when', 'you', 'need', 'someth', 'in', 'a', 'rush', 'amazon', 'seem', 'to', 'understand', 'that', 'all', 'too', 'well', 'accord', 'to', 'report', 'from', 'cnbc', 'and', 'the', 'wall', 'street', 'journal', 'the', 'ecommerc', 'titan', 'is', 'gear', 'up', 'to', 'open', 'it', 'first', 'brickandmortar', 'store', 'in', 'midtown', 'manhattan', 'in', 'time', 'for', 'the', 'holidays\\n\\nth', 'move', 'might', 'seem', 'a', 'littl', 'out', 'of', 'charact', 'for', 'a', 'compani', 'like', 'amazon', 'but', 'thi', 'isnt', 'the', 'first', 'time', 'it', 'thought', 'about', 'move', 'off', 'of', 'the', 'internet', 'and', 'into', 'meatspac', 'two', 'year', 'ago', 'rumor', 'had', 'it', 'that', 'amazon', 'wa', 'go', 'to', 'open', 'a', 'physic', 'shop', 'in', 'seattl', 'devot', 'to', 'amazonexclus', 'book', 'and', 'it', 'slew', 'of', 'kindl', 'gadget', 'oh', 'and', 'who', 'could', 'forget', 'those', 'amazon', 'locker', 'you', 'could', 'choos', 'to', 'rout', 'your', 'goodi', 'to', 'amazon', 'vision', 'for', 'it', 'role', 'in', 'the', 'real', 'world', 'ha', 'evolv', 'a', 'bit', 'sinc', 'then', 'the', 'journal', 'note', 'that', 'the', 'new', 'york', 'outpost', 'could', 'act', 'as', 'a', 'way', 'to', 'highlight', 'it', 'own', 'product', 'like', 'fire', 'tv', 'but', 'the', 'bigger', 'draw', 'is', 'the', 'space', 'role', 'as', 'a', 'sameday', 'product', 'pickup', 'location/custom', 'servic', 'hub', 'think', 'about', 'it:', 'youd', 'be', 'abl', 'to', 'purchas', 'someth', 'from', 'amazon', 'and', 'schlep', 'down', 'to', 'the', 'store', 'on', '34th', 'street', 'to', 'pick', 'it', 'up', 'not', 'exactli', 'what', 'you', 'expect', 'youd', 'be', 'abl', 'to', 'return', 'it', 'to', 'that', 'veri', 'same', 'spot', 'that', 'sens', 'of', 'physic', 'immediaci', 'is', 'someth', 'that', 'amazon', 'ha', 'alway', 'lack', 'now', 'well', 'just', 'have', 'to', 'wait', 'and', 'see', 'if', 'it', 'enough', 'to', 'warrant', 'open', 'more', 'of', 'these', 'things\\n\\nsource:', 'wsj', 'cnbc'])]],\n",
       "      dtype=object)"
      ]
     },
     "execution_count": 11,
     "metadata": {},
     "output_type": "execute_result"
    }
   ],
   "source": [
    "x_train"
   ]
  },
  {
   "cell_type": "code",
   "execution_count": null,
   "metadata": {},
   "outputs": [],
   "source": [
    "lr_model = LogisticRegression()\n"
   ]
  },
  {
   "cell_type": "code",
   "execution_count": null,
   "metadata": {
    "datalore": {
     "hide_input_from_viewers": false,
     "hide_output_from_viewers": false,
     "type": "CODE"
    }
   },
   "outputs": [],
   "source": [
    "#using Tf-idf application from kaggle\n",
    "\n",
    "tfv = TfidfVectorizer(\n",
    "    min_df=3,  \n",
    "    max_features=None, \n",
    "    strip_accents='unicode', \n",
    "    analyzer='word',\n",
    "    token_pattern=r'\\w{1,}',\n",
    "    ngram_range=(1, 3), \n",
    "    use_idf=1,\n",
    "    smooth_idf=1,\n",
    "    sublinear_tf=1,\n",
    "    stop_words = 'english'\n",
    ")\n",
    "\n",
    "vectorizer = TfidfVectorizer()\n",
    "X = vectorizer.fit_transform(corpus)"
   ]
  }
 ],
 "metadata": {
  "datalore": {
   "base_environment": "default",
   "computation_mode": "JUPYTER",
   "package_manager": "pip",
   "packages": [
    {
     "name": "nltk",
     "source": "PIP",
     "version": "3.7"
    }
   ],
   "version": 1
  },
  "kernelspec": {
   "display_name": "Python 3 (ipykernel)",
   "language": "python",
   "name": "python3"
  },
  "language_info": {
   "codemirror_mode": {
    "name": "ipython",
    "version": 3
   },
   "file_extension": ".py",
   "mimetype": "text/x-python",
   "name": "python",
   "nbconvert_exporter": "python",
   "pygments_lexer": "ipython3",
   "version": "3.8.5"
  }
 },
 "nbformat": 4,
 "nbformat_minor": 4
}
